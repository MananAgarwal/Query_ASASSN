{
 "cells": [
  {
   "cell_type": "markdown",
   "metadata": {},
   "source": [
    "## Get ASASSN lightcurves from RA and DEC (and radius in arcmin, default 1 arcmin)\n",
    "by scraping the https://asas-sn.osu.edu/variables website"
   ]
  },
  {
   "cell_type": "code",
   "execution_count": 1,
   "metadata": {},
   "outputs": [],
   "source": [
    "import requests\n",
    "from bs4 import BeautifulSoup\n",
    "import re\n",
    "import pprint"
   ]
  },
  {
   "cell_type": "code",
   "execution_count": 2,
   "metadata": {},
   "outputs": [],
   "source": [
    "def download_file(url, file_name):\n",
    "    # Send GET request\n",
    "    response = requests.get(url)\n",
    "    # Save the PDF\n",
    "    if response.status_code == 200:\n",
    "        with open(file_name, \"wb\") as f:\n",
    "            f.write(response.content)\n",
    "    else:\n",
    "        print(response.status_code)"
   ]
  },
  {
   "cell_type": "code",
   "execution_count": 3,
   "metadata": {},
   "outputs": [],
   "source": [
    "def download_closest_ASASSN_lightcurve_with_radec(ra, dec, radius=1, save_lightcurve_csv=True):\n",
    "    # Request ASASSN lightcurve\n",
    "    URL = \"https://asas-sn.osu.edu/variables?ra=\"+str(ra)+\"&dec=\"+str(dec)+\"&radius=\"+str(radius)+\"&vmag_min=&vmag_max=&amplitude_min=&amplitude_max=&period_min=&period_max=&lksl_min=&lksl_max=&class_prob_min=&class_prob_max=&parallax_over_err_min=&parallax_over_err_max=&name=&references[]=I&references[]=II&references[]=III&references[]=IV&references[]=V&references[]=IX&sort_by=raj2000&sort_order=asc&show_non_periodic=true&show_without_class=true&asassn_discov_only=false&\"\n",
    "    variable_stars_database_page = requests.get(URL)\n",
    "    soup = BeautifulSoup(variable_stars_database_page.content, \"html.parser\")\n",
    "    \n",
    "    # ASASSN results\n",
    "    results_table = soup.find_all(\"table\", class_=\"table-striped\")[0]\n",
    "    table_body = results_table.find_all(\"tbody\")[0]\n",
    "    table_head = results_table.find_all(\"thead\")[0]\n",
    "    \n",
    "    # Parse the results table and download the lightcurve of the closest source\n",
    "    if(len(table_body.find_all(\"tr\"))>0):\n",
    "        th = table_head.find_all(\"th\")\n",
    "        td = table_body.find_all(\"td\")\n",
    "        first_row = {\n",
    "            th[0].text: td[0].find_all(\"a\")[0].text,\n",
    "            'href': \"https://asas-sn.osu.edu\"+td[0].find_all(\"a\")[0].get(\"href\"),\n",
    "            th[1].text: td[1].text,\n",
    "            th[2].text: td[2].text,\n",
    "            th[3].text: td[3].text,\n",
    "            th[4].text: td[4].text,\n",
    "            th[5].text: td[5].text,\n",
    "            th[6].text: td[6].text,\n",
    "            th[7].text: td[7].text,\n",
    "            th[8].text: td[8].text\n",
    "        }\n",
    "        # Print the details of the closest source\n",
    "        pp = pprint.PrettyPrinter(indent=0)\n",
    "        pp.pprint(first_row)\n",
    "\n",
    "        # Get the Gaia EDR3 ID of the source\n",
    "        ## This section can be skipped and the lightcurve can be saved with the ASASSN name\n",
    "        lightcurve_URL = first_row['href']\n",
    "        lightcurve_page = requests.get(lightcurve_URL)\n",
    "        lightcurve_soup = BeautifulSoup(lightcurve_page.content, \"html.parser\")\n",
    "        gaia_edr3_id = lightcurve_soup(text = re.compile('EDR3_ID'))[0].parent.parent.parent.find_all(\"span\", class_=\"star-data__value\")[0].text\n",
    "        gaia_edr3_id = gaia_edr3_id.replace('\\n','')\n",
    "        print(\"Gaia EDR3 ID: \", gaia_edr3_id)\n",
    "        \n",
    "        # Download the lightcurve of the closest source\n",
    "        if save_lightcurve_csv:\n",
    "            download_file(first_row['href']+\".csv\", \"EDR3_\"+gaia_edr3_id+\".csv\")\n",
    "    else:\n",
    "        print(\"No Variables found\\nRequest: \", URL)"
   ]
  },
  {
   "cell_type": "code",
   "execution_count": 4,
   "metadata": {},
   "outputs": [
    {
     "name": "stdout",
     "output_type": "stream",
     "text": [
      "{'ASAS-SN Name': 'ASASSN-V J000007.61+344026.3',\n",
      "'Amplitude': '1.25',\n",
      "'Declination': '34.67396',\n",
      "'Distance from Search (arcsec)': '0.00',\n",
      "'Mean VMag': '15.94',\n",
      "'Other Names': 'SERIV 27',\n",
      "'Period': '0.4619591',\n",
      "'Right Ascension': '0.0317',\n",
      "'Type': 'RRAB',\n",
      "'href': 'https://asas-sn.osu.edu/variables/8b0b017b-533b-57b4-9afb-3c466701cdaa'}\n",
      "Gaia EDR3 ID:  2875434876156537472\n"
     ]
    }
   ],
   "source": [
    "ra = 0.0317     # deg\n",
    "dec = 34.67396  # deg\n",
    "radius = 5      # arcmin\n",
    "download_closest_ASASSN_lightcurve_with_radec(ra, dec, radius)"
   ]
  },
  {
   "cell_type": "code",
   "execution_count": null,
   "metadata": {},
   "outputs": [],
   "source": []
  },
  {
   "cell_type": "code",
   "execution_count": null,
   "metadata": {},
   "outputs": [],
   "source": []
  }
 ],
 "metadata": {
  "kernelspec": {
   "display_name": "Python 3",
   "language": "python",
   "name": "python3"
  },
  "language_info": {
   "codemirror_mode": {
    "name": "ipython",
    "version": 3
   },
   "file_extension": ".py",
   "mimetype": "text/x-python",
   "name": "python",
   "nbconvert_exporter": "python",
   "pygments_lexer": "ipython3",
   "version": "3.6.7"
  },
  "vscode": {
   "interpreter": {
    "hash": "31f2aee4e71d21fbe5cf8b01ff0e069b9275f58929596ceb00d14d90e3e16cd6"
   }
  }
 },
 "nbformat": 4,
 "nbformat_minor": 2
}
